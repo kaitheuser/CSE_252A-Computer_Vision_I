{
 "cells": [
  {
   "cell_type": "markdown",
   "metadata": {
    "id": "y3Jp_VhCl4te",
    "tags": []
   },
   "source": [
    "# CSE 252A Computer Vision I Fall 2021 - Assignment 4"
   ]
  },
  {
   "cell_type": "markdown",
   "metadata": {
    "id": "gISBijp3l4ti",
    "tags": []
   },
   "source": [
    "## Instructor: Ben Ochoa\n",
    "\n",
    "- Assignment Published On: **Wed, November 17, 2021**.\n",
    "\n",
    "- Due On: **Wed, December 1, 2021 11:59 PM (Pacific Time)**."
   ]
  },
  {
   "cell_type": "markdown",
   "metadata": {
    "id": "FOXXS2dOl4tj",
    "tags": []
   },
   "source": [
    "## Instructions\n",
    "* This assignment must be completed **individually**. For more details, please follow the Academic Integrity Policy and Collaboration Policy on [Canvas](https://canvas.ucsd.edu/courses/21788).\n",
    "* All solutions must be written in this notebook.\n",
    "  * **If** it includes the theoretical problems, you **must** write your answers in Markdown cells (using LaTeX when appropriate).\n",
    "  * Programming aspects of the assignment must be completed using Python in this notebook.\n",
    "* You may use Python packages (such as `NumPy` and `SciPy`) for basic linear algebra, but you may not use packages that directly solve the problem.\n",
    "  * If you are unsure about using a specific package or function, then ask the instructor and/or teaching assistants for clarification.\n",
    "* You must submit this notebook exported as a PDF that contains separate pages. You must also submit this notebook as `.ipynb` file.\n",
    "  * Submit both files (`.pdf` and `.ipynb`) on Gradescope.\n",
    "  * **You must mark the PDF pages associated with each question in Gradescope. If you fail to do so, we may dock points.**\n",
    "* It is highly recommended that you begin working on this assignment early.\n",
    "* **Late Policy:** Assignments submitted late will receive a 15% grade reduction for each 12 hours late (i.e., 30% per day). Assignments will not be accepted 72 hours after the due date. If you require an extension (for personal reasons only) to a due date, you must request one as far in advance as possible. Extensions requested close to or after the due date will only be granted for clear emergencies or clearly unforeseeable circumstances. "
   ]
  },
  {
   "cell_type": "markdown",
   "metadata": {
    "id": "l5pbyh5yl4tk",
    "tags": [],
    "toc-hr-collapsed": true
   },
   "source": [
    "## Problem 1: Machine Learning [28 pts]"
   ]
  },
  {
   "cell_type": "markdown",
   "metadata": {
    "id": "m16Ecnjdl4tk"
   },
   "source": [
    "In this problem, you will implement several machine learning solutions for computer vision problems."
   ]
  },
  {
   "cell_type": "code",
   "execution_count": 1,
   "metadata": {
    "id": "fRmEALQpmG5_"
   },
   "outputs": [
    {
     "name": "stdout",
     "output_type": "stream",
     "text": [
      "Requirement already satisfied: sklearn in /Users/kaitheuser/opt/anaconda3/lib/python3.7/site-packages (0.0)\r\n",
      "Requirement already satisfied: scikit-learn in /Users/kaitheuser/opt/anaconda3/lib/python3.7/site-packages (from sklearn) (0.22.1)\r\n",
      "Requirement already satisfied: scipy>=0.17.0 in /Users/kaitheuser/opt/anaconda3/lib/python3.7/site-packages (from scikit-learn->sklearn) (1.4.1)\r\n",
      "Requirement already satisfied: numpy>=1.11.0 in /Users/kaitheuser/opt/anaconda3/lib/python3.7/site-packages (from scikit-learn->sklearn) (1.18.1)\r\n",
      "Requirement already satisfied: joblib>=0.11 in /Users/kaitheuser/opt/anaconda3/lib/python3.7/site-packages (from scikit-learn->sklearn) (0.14.1)\r\n"
     ]
    }
   ],
   "source": [
    "!pip install sklearn"
   ]
  },
  {
   "cell_type": "markdown",
   "metadata": {
    "id": "zQpyhnvIl4tk"
   },
   "source": [
    "### Problem 1.1: Initial Setup"
   ]
  },
  {
   "cell_type": "markdown",
   "metadata": {
    "id": "CCC0JD1Il4tl"
   },
   "source": [
    "We will use [Scikit-learn (Sklearn)](https://scikit-learn.org/stable/) module in for this problem. It is the most useful and robust library for machine learning in Python. It provides a selection of efficient tools for machine learning and statistical modeling including classification, regression, clustering and dimensionality reduction via a consistence interface in Python. This library, which is largely written in Python, is built upon NumPy, SciPy and Matplotlib. \n",
    "\n",
    "Get started by installing the Sklearn module."
   ]
  },
  {
   "cell_type": "code",
   "execution_count": 2,
   "metadata": {
    "id": "8ZiYlaSol4tm"
   },
   "outputs": [
    {
     "data": {
      "text/plain": [
       "'0.22.1'"
      ]
     },
     "execution_count": 2,
     "metadata": {},
     "output_type": "execute_result"
    }
   ],
   "source": [
    "import sklearn\n",
    "sklearn.__version__"
   ]
  },
  {
   "cell_type": "markdown",
   "metadata": {
    "id": "0SQL5iPKl4to"
   },
   "source": [
    "<div style=\"page-break-after: always; visibility: hidden\"> \n",
    "\\pagebreak \n",
    "</div>\n",
    "\n",
    "### Problem 1.2: Download MNIST data [3 pts]"
   ]
  },
  {
   "cell_type": "markdown",
   "metadata": {
    "id": "-_f1_Tz7l4tq"
   },
   "source": [
    "The [MNIST database](http://yann.lecun.com/exdb/mnist/) (Modified National Institute of Standards and Technology database) is a well-known dataset consisting of 28x28 grayscale images of handwritten digits. For this problem, we will use Sklearn to do machine learning classification on the MNIST database.\n",
    "\n",
    "Sklearn provides a subset of MNIST database with 8x8 pixel images of digits. The `images` attribute of the dataset stores 8x8 arrays of grayscale values for each image. The `target` attribute of the dataset stores the digit each image represents. Complete `plot_mnist_sample()` to plot a 2x5 figure, each grid lies a sample image from a category. The following image gives an example:\n",
    "<img src=\"fig/eg_mnist.PNG\" alt=\"drawing\" width=\"400\"/>\n",
    "\n",
    "<!-- ![MNIST EXAMPLE](./fig/eg_mnist.PNG =250x) -->"
   ]
  },
  {
   "cell_type": "code",
   "execution_count": 3,
   "metadata": {
    "id": "vbXpRqO1l4tq"
   },
   "outputs": [],
   "source": [
    "import numpy as np\n",
    "import matplotlib.pyplot as plt\n",
    "from sklearn import datasets"
   ]
  },
  {
   "cell_type": "code",
   "execution_count": 4,
   "metadata": {
    "id": "3PTXSZhWl4tr"
   },
   "outputs": [
    {
     "name": "stdout",
     "output_type": "stream",
     "text": [
      "Image Data Shape (1797, 64)\n",
      "Label Data Shape (1797,)\n"
     ]
    }
   ],
   "source": [
    "# Download MNIST Dataset from Sklearn\n",
    "digits = datasets.load_digits()\n",
    "\n",
    "# Print to show there are 1797 images (8 by 8 images for a dimensionality of 64)\n",
    "print(\"Image Data Shape\" , digits.data.shape)\n",
    "\n",
    "# Print to show there are 1797 labels (integers from 0-9)\n",
    "print(\"Label Data Shape\", digits.target.shape)\n"
   ]
  },
  {
   "cell_type": "code",
   "execution_count": 5,
   "metadata": {
    "id": "p43geFB4l4tr"
   },
   "outputs": [],
   "source": [
    "def plot_mnist_sample():\n",
    "    \"\"\"\n",
    "    This function plots a sample image for each category,\n",
    "    The result is a figure with 2x5 grid of images.\n",
    "    \n",
    "    \"\"\"\n",
    "    plt.figure()\n",
    "    \n",
    "    \"\"\" ==========\n",
    "    YOUR CODE HERE\n",
    "    ========== \"\"\"\n",
    "    \n",
    "    # Store all the diffferent labels\n",
    "    labels = np.unique(digits.target)\n",
    "    \n",
    "    # Determine the total number of labels\n",
    "    num_Labels = len(labels)\n",
    "    \n",
    "    # Plot each category sample image\n",
    "    for label in range(0, num_Labels):\n",
    "        \n",
    "        # Run through the label array\n",
    "        for idx in range(0, digits.target.shape[0]):\n",
    "            \n",
    "            # If the element of the label array is the expected label\n",
    "            if digits.target[idx] == label:\n",
    "                \n",
    "                # Plot it.\n",
    "                img = digits.data[idx] # Get Image\n",
    "                plt.subplot(2, 5, label+1) # Create subplots\n",
    "                plot_Header = \"Train: \"+ str(label) # Plot title\n",
    "                plt.title(plot_Header) # Include headers\n",
    "                plt.xticks([]) # Remove x-axis ticks\n",
    "                plt.yticks([]) # Remove y-axis ticks\n",
    "                plt.imshow(img.reshape((8,8)), cmap ='gray') # Plot the sample image\n",
    "                \n",
    "                break\n",
    "                \n",
    "    plt.show()"
   ]
  },
  {
   "cell_type": "code",
   "execution_count": 6,
   "metadata": {
    "id": "xEj8kOdul4tr"
   },
   "outputs": [
    {
     "data": {
      "image/png": "[encoded data removed]",
      "text/plain": [
       "<Figure size 432x288 with 10 Axes>"
      ]
     },
     "metadata": {},
     "output_type": "display_data"
    }
   ],
   "source": [
    "# PLOT CODE: DO NOT CHANGE\n",
    "# This code is for you to plot the results.\n",
    "\n",
    "plot_mnist_sample()"
   ]
  },
  {
   "cell_type": "markdown",
   "metadata": {
    "id": "sD68VE3pl4ts"
   },
   "source": [
    "<div style=\"page-break-after: always; visibility: hidden\"> \n",
    "\\pagebreak \n",
    "</div>\n",
    "\n",
    "### Problem 1.3: Recognizing hand-written digits with Sklearn [5 pts]"
   ]
  },
  {
   "cell_type": "markdown",
   "metadata": {
    "id": "W3ctL_Gwl4ts"
   },
   "source": [
    "One of the most amazing things about Sklearn library is that it provides an easy pattern for you to call different models. In this part, we will get some experience with several classifiers in Sklearn. You will complete `LogisticRegressionClassifier` and `kNNCalssifier`."
   ]
  },
  {
   "cell_type": "code",
   "execution_count": 7,
   "metadata": {
    "id": "bDZ8BK3Ol4ts"
   },
   "outputs": [],
   "source": [
    "# DO NOT CHANGE\n",
    "#### Some helper functions are given below####\n",
    "def DataBatch(data, label, batchsize, shuffle=True):\n",
    "    \"\"\"\n",
    "    This function provides a generator for batches of data that \n",
    "    yields data (batchsize, 3, 32, 32) and labels (batchsize)\n",
    "    if shuffle, it will load batches in a random order\n",
    "    \"\"\"\n",
    "    n = data.shape[0]\n",
    "    if shuffle:\n",
    "        index = np.random.permutation(n)\n",
    "    else:\n",
    "        index = np.arange(n)\n",
    "    for i in range(int(np.ceil(n/batchsize))):\n",
    "        inds = index[i*batchsize : min(n,(i+1)*batchsize)]\n",
    "        yield data[inds], label[inds]\n",
    "\n",
    "def test(testData, testLabels, classifier):\n",
    "    \"\"\"\n",
    "    Call this function to test the accuracy of a classifier\n",
    "    \"\"\"\n",
    "    batchsize=50\n",
    "    correct=0.\n",
    "    for data,label in DataBatch(testData,testLabels,batchsize,shuffle=False):\n",
    "        prediction = classifier(data)\n",
    "        correct += np.sum(prediction==label)\n",
    "    return correct/testData.shape[0]*100"
   ]
  },
  {
   "cell_type": "code",
   "execution_count": 8,
   "metadata": {
    "id": "QQ0N2RCZl4tt"
   },
   "outputs": [],
   "source": [
    "# DO NOT CHANGE\n",
    "# Split data into 50% train and 50% test subsets\n",
    "from sklearn.model_selection import train_test_split\n",
    "\n",
    "X_train, X_test, y_train, y_test = train_test_split(\n",
    "    digits.images.reshape((len(digits.images), -1)), digits.target, test_size=0.5, shuffle=False)"
   ]
  },
  {
   "cell_type": "code",
   "execution_count": 9,
   "metadata": {
    "id": "m6JnXh3jl4tt"
   },
   "outputs": [],
   "source": [
    "from sklearn.linear_model import LogisticRegression\n",
    "from sklearn.neighbors import KNeighborsClassifier\n",
    "\n",
    "class RandomClassifier():\n",
    "    \"\"\"\n",
    "    This is a sample classifier. \n",
    "    given an input it outputs a random class\n",
    "    \"\"\"\n",
    "    def __init__(self, classes=10):\n",
    "        self.classes=classes\n",
    "    def __call__(self, x):\n",
    "        return np.random.randint(self.classes, size=x.shape[0])\n",
    "    \n",
    "class LogisticRegressionClassifier():\n",
    "    def __init__(self, sol='liblinear'):\n",
    "        \"\"\" ==========\n",
    "        YOUR CODE HERE\n",
    "        ========== \"\"\"\n",
    "        # Initialize and Create the Logistic Regression Classifier object.\n",
    "        self.lrClassifier = LogisticRegression(solver = sol)\n",
    "        \n",
    "    def train(self, trainData, trainLabels):\n",
    "        \"\"\" ==========\n",
    "        YOUR CODE HERE\n",
    "        ========== \"\"\"\n",
    "        # Fit the train data with the train labels.\n",
    "        self.lrClassifier.fit(trainData, trainLabels)\n",
    "        \n",
    "    def __call__(self, x):\n",
    "        \"\"\" ==========\n",
    "        YOUR CODE HERE\n",
    "        ========== \"\"\"\n",
    "        return self.lrClassifier.predict(x)\n",
    "    \n",
    "class kNNClassifier():\n",
    "    def __init__(self, k=3):\n",
    "        \"\"\"\n",
    "         k is the number of neighbors involved in voting\n",
    "        \"\"\"\n",
    "        \"\"\" ==========\n",
    "        YOUR CODE HERE\n",
    "        ========== \"\"\"\n",
    "        # Initialize and Create the KNN Classifier object.\n",
    "        self.knnClassifier = KNeighborsClassifier(n_neighbors = k)\n",
    "        \n",
    "        \n",
    "    def train(self, trainData, trainLabels):\n",
    "        \"\"\" ==========\n",
    "        YOUR CODE HERE\n",
    "        ========== \"\"\"\n",
    "        # Fit the train data with the train labels.\n",
    "        self.knnClassifier.fit(trainData, trainLabels)\n",
    "       \n",
    "        \n",
    "    def __call__(self, x):\n",
    "        \"\"\"\n",
    "        this method should take a batch of images and return a batch of predictions\n",
    "        \"\"\"\n",
    "        \"\"\" ==========\n",
    "        YOUR CODE HERE\n",
    "        ========== \"\"\"\n",
    "        return self.knnClassifier.predict(x)\n",
    "        "
   ]
  },
  {
   "cell_type": "code",
   "execution_count": 10,
   "metadata": {
    "id": "ZQ9k9kw-l4tt"
   },
   "outputs": [
    {
     "name": "stdout",
     "output_type": "stream",
     "text": [
      "Random classifier accuracy: 10.789766\n"
     ]
    }
   ],
   "source": [
    "# TEST CODE: DO NOT CHANGE\n",
    "randomClassifierX = RandomClassifier()\n",
    "print ('Random classifier accuracy: %f'%test(X_test, y_test, randomClassifierX))"
   ]
  },
  {
   "cell_type": "code",
   "execution_count": 11,
   "metadata": {
    "id": "tOGbN8GDl4tu"
   },
   "outputs": [
    {
     "name": "stdout",
     "output_type": "stream",
     "text": [
      "Logistic Regression Classifier classifier accuracy: 91.657397\n"
     ]
    }
   ],
   "source": [
    "# TEST CODE: DO NOT CHANGE\n",
    "# TEST LogisticRegressionClassifier\n",
    "\n",
    "lrClassifierX = LogisticRegressionClassifier()\n",
    "lrClassifierX.train(X_train, y_train)\n",
    "print ('Logistic Regression Classifier classifier accuracy: %f'%test(X_test, y_test, lrClassifierX))"
   ]
  },
  {
   "cell_type": "code",
   "execution_count": 12,
   "metadata": {
    "id": "WN3IyTafl4tu"
   },
   "outputs": [
    {
     "name": "stdout",
     "output_type": "stream",
     "text": [
      "KNN Classifier classifier accuracy: 96.329255\n"
     ]
    }
   ],
   "source": [
    "# TEST CODE: DO NOT CHANGE\n",
    "# TEST kNNClassifier\n",
    "\"\"\" ==========\n",
    "YOUR CODE HERE\n",
    "========== \"\"\"\n",
    "knnClassifierX = kNNClassifier()\n",
    "knnClassifierX.train(X_train, y_train)\n",
    "print ('KNN Classifier classifier accuracy: %f'%test(X_test, y_test, knnClassifierX))"
   ]
  },
  {
   "cell_type": "markdown",
   "metadata": {
    "id": "jt39SvrEl4tv"
   },
   "source": [
    "<div style=\"page-break-after: always; visibility: hidden\"> \n",
    "\\pagebreak \n",
    "</div>\n",
    "\n",
    "### Problem 1.4: Confusion Matrix [5 pts]"
   ]
  },
  {
   "cell_type": "markdown",
   "metadata": {
    "id": "9jm0Zmzcl4tv"
   },
   "source": [
    "A confusion matrix is a table that is often used to describe the performance of a classification model (or \"classifier\") on a set of test data for which the true values are known. Here you will implement a function that computes the confusion matrix for a classifier. The matrix (M) should be $n \\times n$ where $n$ is the number of classes. Entry `M[i,j]` should contain the fraction of images of class `i` that was classified as class `j`. The following example plots confusion matrix for the `RandomClassifier`, your task is to plot the results for `LogisticRegressionClassifier` and `kNNClassifier`.\n",
    "<img src=\"fig/eg_confusion.PNG\" alt=\"drawing\" width=\"250\"/>"
   ]
  },
  {
   "cell_type": "code",
   "execution_count": 13,
   "metadata": {
    "id": "HP43z3lOl4tv"
   },
   "outputs": [],
   "source": [
    "from tqdm import tqdm\n",
    "\n",
    "def Confusion(testData, testLabels, classifier):\n",
    "    batchsize=50\n",
    "    correct=0\n",
    "    M=np.zeros((10,10))\n",
    "    num=testData.shape[0]/batchsize\n",
    "    count=0\n",
    "    acc=0\n",
    "    \n",
    "    for data,label in tqdm(DataBatch(testData,testLabels,batchsize,shuffle=False),total=len(testData)//batchsize):\n",
    "        \"\"\" ==========\n",
    "        YOUR CODE HERE\n",
    "        ========== \"\"\"\n",
    "        \n",
    "        # Get the predicted labels from the classifier.\n",
    "        label_prediction = classifier(data)\n",
    "        \n",
    "        # Construct the Confusion Matrix\n",
    "        for idx in range(0, label_prediction.shape[0]):\n",
    "            \n",
    "            # Count the number of occurance at each coordinate\n",
    "            M[label[idx], label_prediction[idx]] = M[label[idx], label_prediction[idx]] + 1\n",
    "    \n",
    "    # Get the total number of correct classification.\n",
    "    acc = np.trace(M)\n",
    "        \n",
    "    # Calculate the correct classification fraction of each category\n",
    "    for idx in range(0, M.shape[0]):\n",
    "    \n",
    "        # Get the the sum of each label\n",
    "        sum_of_label = np.sum(M[idx,:])\n",
    "        \n",
    "        # Construct the final Confusion Matrix\n",
    "        M[idx, :] = M[idx, :] / sum_of_label\n",
    "    \n",
    "    return M,acc*100.0/len(testData)\n",
    "\n",
    "def VisualizeConfussion(M):\n",
    "    plt.figure(figsize=(14, 6))\n",
    "    plt.imshow(M)\n",
    "    plt.show()\n",
    "    print(np.round(M,2))"
   ]
  },
  {
   "cell_type": "code",
   "execution_count": 14,
   "metadata": {
    "id": "suvefA82l4tv"
   },
   "outputs": [
    {
     "name": "stderr",
     "output_type": "stream",
     "text": [
      "18it [00:00, 4490.96it/s]             \n"
     ]
    },
    {
     "data": {
      "image/png": "[encoded data removed]",
      "text/plain": [
       "<Figure size 1008x432 with 1 Axes>"
      ]
     },
     "metadata": {
      "needs_background": "light"
     },
     "output_type": "display_data"
    },
    {
     "name": "stdout",
     "output_type": "stream",
     "text": [
      "[[0.97 0.   0.   0.   0.01 0.01 0.01 0.   0.   0.  ]\n",
      " [0.   0.89 0.   0.01 0.   0.   0.01 0.   0.02 0.07]\n",
      " [0.02 0.   0.98 0.   0.   0.   0.   0.   0.   0.  ]\n",
      " [0.   0.01 0.   0.82 0.   0.07 0.   0.02 0.05 0.02]\n",
      " [0.01 0.02 0.   0.   0.93 0.   0.01 0.   0.   0.02]\n",
      " [0.   0.03 0.   0.   0.   0.9  0.02 0.   0.   0.04]\n",
      " [0.   0.   0.01 0.   0.   0.   0.99 0.   0.   0.  ]\n",
      " [0.   0.01 0.   0.   0.   0.06 0.   0.89 0.01 0.03]\n",
      " [0.   0.06 0.01 0.   0.   0.03 0.01 0.   0.88 0.01]\n",
      " [0.02 0.01 0.   0.   0.   0.02 0.   0.   0.02 0.92]]\n"
     ]
    }
   ],
   "source": [
    "# TEST/PLOT CODE: DO NOT CHANGE\n",
    "# TEST LogisticRegressionClassifier\n",
    "\n",
    "M,acc = Confusion(X_test, y_test, lrClassifierX)\n",
    "VisualizeConfussion(M)"
   ]
  },
  {
   "cell_type": "code",
   "execution_count": 15,
   "metadata": {
    "id": "YWZFcKjal4tw"
   },
   "outputs": [
    {
     "name": "stderr",
     "output_type": "stream",
     "text": [
      "18it [00:00, 198.49it/s]              \n"
     ]
    },
    {
     "data": {
      "image/png": "[encoded data removed]",
      "text/plain": [
       "<Figure size 1008x432 with 1 Axes>"
      ]
     },
     "metadata": {
      "needs_background": "light"
     },
     "output_type": "display_data"
    },
    {
     "name": "stdout",
     "output_type": "stream",
     "text": [
      "[[0.99 0.   0.   0.   0.01 0.   0.   0.   0.   0.  ]\n",
      " [0.   0.99 0.   0.   0.   0.   0.   0.   0.01 0.  ]\n",
      " [0.01 0.   0.94 0.05 0.   0.   0.   0.   0.   0.  ]\n",
      " [0.   0.   0.01 0.92 0.   0.01 0.   0.02 0.02 0.01]\n",
      " [0.   0.   0.   0.   0.93 0.   0.   0.   0.   0.07]\n",
      " [0.   0.   0.   0.   0.   0.97 0.01 0.   0.   0.02]\n",
      " [0.   0.   0.   0.   0.   0.   1.   0.   0.   0.  ]\n",
      " [0.   0.   0.   0.   0.   0.   0.   1.   0.   0.  ]\n",
      " [0.   0.02 0.01 0.01 0.   0.   0.   0.   0.95 0.  ]\n",
      " [0.   0.   0.   0.03 0.   0.02 0.   0.   0.01 0.93]]\n"
     ]
    }
   ],
   "source": [
    "# TEST/PLOT CODE: DO NOT CHANGE\n",
    "# TEST kNNClassifier\n",
    "\n",
    "M,acc = Confusion(X_test, y_test, knnClassifierX)\n",
    "VisualizeConfussion(M)"
   ]
  },
  {
   "cell_type": "markdown",
   "metadata": {
    "id": "0HnFGSRFl4tw"
   },
   "source": [
    "<div style=\"page-break-after: always; visibility: hidden\"> \n",
    "\\pagebreak \n",
    "</div>\n",
    "\n",
    "### Problem 1.5: K-Nearest Neighbors (KNN) [7 pts]"
   ]
  },
  {
   "cell_type": "markdown",
   "metadata": {
    "id": "1l8Vxkoil4tw"
   },
   "source": [
    "For this problem, you will complete a simple kNN classifer without Sklearn. The distance metric is Euclidean distance (L2 norm) in pixel space. $k$ refers to the number of neighbors involved in voting on the class. "
   ]
  },
  {
   "cell_type": "code",
   "execution_count": 16,
   "metadata": {
    "id": "C-D-znLZl4tx"
   },
   "outputs": [],
   "source": [
    "from collections import Counter\n",
    "\n",
    "class kNNClassifierManual():\n",
    "    def __init__(self, k=3):\n",
    "        self.k=k\n",
    "\n",
    "    def train(self, trainData, trainLabels):\n",
    "        #print(\"Called!\")\n",
    "        #print(trainData.shape, trainLabels.shape)\n",
    "        self.X_train = trainData\n",
    "        self.y_train = trainLabels\n",
    "        \n",
    "    def __call__(self, X):\n",
    "        \"\"\" ==========\n",
    "        YOUR CODE HERE\n",
    "        ========== \"\"\"\n",
    "        \n",
    "        # Initialize predicted labels\n",
    "        predicted_labels = []\n",
    "        \n",
    "        # Calculate the L2 distance between the test and train values.\n",
    "        for idx in range(0, X.shape[0]):\n",
    "            \n",
    "            # Initialize the L2 norm distance list\n",
    "            L2_dist = []\n",
    "            \n",
    "            # Initialize voting list\n",
    "            voting_list = []\n",
    "            \n",
    "            #print(self.X_train.shape, X.shape)\n",
    "            \n",
    "            # Loop through every samples\n",
    "            for i in range(0, self.X_train.shape[0]):\n",
    "                \n",
    "                #print(self.X_train[i].shape, X[idx].shape)\n",
    "                \n",
    "                # Calculate the difference between the test and train values\n",
    "                delta = self.X_train[i] - X[idx]\n",
    "                \n",
    "                # Square the delta\n",
    "                delta_sq = delta**2\n",
    "                \n",
    "                # Calculate the distance\n",
    "                distance = np.sqrt(np.sum(delta_sq))\n",
    "                \n",
    "                # Add to the L2 dist list together with the index.\n",
    "                L2_dist.append([distance, i])\n",
    "                \n",
    "            # Sort from lowest distance to highest distance\n",
    "            L2_dist.sort()\n",
    "            \n",
    "            # Select the nearest k from the L2_dist list\n",
    "            L2_dist_k = L2_dist[0: self.k]\n",
    "            \n",
    "            for j in range(0, self.k):\n",
    "                \n",
    "                # Get the labels that have the k nearest distance\n",
    "                voting_list.append(self.y_train[L2_dist_k[j][1]])\n",
    "            \n",
    "            # Get the most common/counter array of the lists\n",
    "            # Then get the first list, and then the first array of labels.\n",
    "            #print(voting_list)\n",
    "            #print(Counter(voting_list))\n",
    "            #print(Counter(voting_list).most_common(1))\n",
    "            voting_results = Counter(voting_list).most_common(1)[0][0]\n",
    "            \n",
    "            # Add to the predicted label list\n",
    "            predicted_labels.append(voting_results)\n",
    "            \n",
    "        # Convert to array\n",
    "        predicted_labels = np.array(predicted_labels)\n",
    "                \n",
    "        return predicted_labels"
   ]
  },
  {
   "cell_type": "code",
   "execution_count": 17,
   "metadata": {
    "id": "wPVvwhp0l4tx"
   },
   "outputs": [
    {
     "name": "stdout",
     "output_type": "stream",
     "text": [
      "KNN classifier accuracy: 95.884316\n"
     ]
    }
   ],
   "source": [
    "# TEST/PLOT CODE: DO NOT CHANGE\n",
    "# TEST kNNClassifierManual\n",
    "\n",
    "knnClassifierManualX = kNNClassifierManual()\n",
    "knnClassifierManualX.train(X_train, y_train)\n",
    "print ('KNN classifier accuracy: %f'%test(X_test, y_test, knnClassifierManualX))"
   ]
  },
  {
   "cell_type": "markdown",
   "metadata": {
    "id": "jZQQIiKPnRQF"
   },
   "source": [
    "<div style=\"page-break-after: always; visibility: hidden\"> \n",
    "\\pagebreak \n",
    "</div>\n",
    "\n",
    "### Problem 1.6: Principal Component Analysis (PCA) K-Nearest Neighbors (KNN) [8 pts]\n",
    "Here you will implement a simple KNN classifer in PCA space (for k=3 and 25 principal components).\n",
    "You should implement PCA yourself using svd (you may not use sklearn.decomposition.PCA\n",
    "or any other package that directly implements PCA transformations)\n",
    "\n",
    "Is the testing time for PCA KNN classifier more or less than that for KNN classifier? Comment on why it differs if it does."
   ]
  },
  {
   "cell_type": "code",
   "execution_count": 18,
   "metadata": {
    "id": "e06z90dxm7Af"
   },
   "outputs": [
    {
     "name": "stdout",
     "output_type": "stream",
     "text": [
      "PCA KNN classifier accuracy: 85.428254\n"
     ]
    }
   ],
   "source": [
    "class PCAKNNClassifer():\n",
    "    def __init__(self, components=25, k=3):\n",
    "        # components = number of principal components\n",
    "        # k is the number of neighbors involved in voting\n",
    "        \"\"\" ==========\n",
    "        YOUR CODE HERE\n",
    "        ========== \"\"\"\n",
    "        # Initialize the object variables\n",
    "        self.components = components\n",
    "        self.k = k\n",
    "        self.classifier = kNNClassifierManual(k = self.k)\n",
    "        #self.classifier = KNeighborsClassifier(n_neighbors = self.k)\n",
    "        \n",
    "    def train(self, trainData, trainLabels):\n",
    "        \"\"\" ==========\n",
    "        YOUR CODE HERE\n",
    "        ========== \"\"\"\n",
    "        # Compute the mean image\n",
    "        mean_img = np.mean(trainData, axis=0)\n",
    "        \n",
    "        # Compute the covariance matrix\n",
    "        cov_Mat = np.dot((trainData - mean_img).T, (trainData - mean_img)) / (trainData.shape[0] - 1)\n",
    "        \n",
    "        # Check the covariance matrix with numpy\n",
    "        #cov_Mat = np.cov(trainData.T)\n",
    "        #print(cov_Mat)\n",
    "        \n",
    "        # Compute SVD on the covariance matrix\n",
    "        U, Sig, V_trans = np.linalg.svd(cov_Mat)\n",
    "        \n",
    "        # Get the first k rows of V_transpose which are the principal components and change to V\n",
    "        self.V_mat = V_trans[:self.components].T\n",
    "        \n",
    "        # Determine the projection of the trainData, A = XV.\n",
    "        #self.A_train_projected = np.dot(trainData, self.V_mat)\n",
    "        self.X_train = np.dot(trainData, self.V_mat)\n",
    "        self.y_train = trainLabels\n",
    "        \n",
    "        # Check the shape of the X_train and y_train\n",
    "        #print(self.X_train.shape, self.y_train.shape)\n",
    "        \n",
    "        # Pass the train images and train labels to the classifier.\n",
    "        self.classifier.train(self.X_train, self.y_train)\n",
    "        #self.classifier.fit(self.X_train, self.y_train)\n",
    "\n",
    "        \n",
    "    def __call__(self, x):\n",
    "        # this method should take a batch of images\n",
    "        # and return a batch of predictions\n",
    "        \"\"\" ==========\n",
    "        YOUR CODE HERE\n",
    "        ========== \"\"\"\n",
    "        #print(x.shape)\n",
    "        # Determine the projection of the x test, A = XV.\n",
    "        self.A_test_projected = np.dot(x, self.V_mat)\n",
    "        \n",
    "        # Check the shape of the A_test_projected\n",
    "        #print(self.A_test_projected.shape)\n",
    "        \n",
    "        # Predict the labels with the knnClassifierManual\n",
    "        #return self.classifier.predict(self.A_test_projected)\n",
    "        return self.classifier(self.A_test_projected)\n",
    "\n",
    "# test your classifier with only the first 100 training examples (use this\n",
    "# while debugging)\n",
    "pcaknnClassiferX = PCAKNNClassifer()\n",
    "pcaknnClassiferX.train(X_train[:100], y_train[:100])\n",
    "print ('PCA KNN classifier accuracy: %f'%test(X_test, y_test, pcaknnClassiferX))"
   ]
  },
  {
   "cell_type": "code",
   "execution_count": 19,
   "metadata": {
    "id": "eSbD_cdeoOY5"
   },
   "outputs": [
    {
     "name": "stderr",
     "output_type": "stream",
     "text": [
      "18it [00:06,  2.73it/s]                        "
     ]
    },
    {
     "name": "stdout",
     "output_type": "stream",
     "text": [
      "PCA KNN classifier accuracy: 95.661846\n"
     ]
    },
    {
     "name": "stderr",
     "output_type": "stream",
     "text": [
      "\n"
     ]
    },
    {
     "data": {
      "image/png": "[encoded data removed]",
      "text/plain": [
       "<Figure size 1008x432 with 1 Axes>"
      ]
     },
     "metadata": {
      "needs_background": "light"
     },
     "output_type": "display_data"
    },
    {
     "name": "stdout",
     "output_type": "stream",
     "text": [
      "[[0.99 0.   0.   0.   0.01 0.   0.   0.   0.   0.  ]\n",
      " [0.   0.96 0.02 0.   0.   0.   0.   0.   0.01 0.01]\n",
      " [0.01 0.   0.94 0.05 0.   0.   0.   0.   0.   0.  ]\n",
      " [0.   0.   0.   0.9  0.   0.02 0.   0.03 0.04 0.  ]\n",
      " [0.   0.   0.   0.   0.95 0.   0.   0.   0.   0.05]\n",
      " [0.   0.   0.   0.   0.   0.98 0.01 0.   0.   0.01]\n",
      " [0.   0.   0.   0.   0.   0.   1.   0.   0.   0.  ]\n",
      " [0.   0.   0.   0.   0.   0.   0.   0.98 0.02 0.  ]\n",
      " [0.   0.02 0.   0.02 0.   0.   0.   0.01 0.94 0.  ]\n",
      " [0.   0.   0.   0.04 0.   0.02 0.   0.   0.   0.93]]\n"
     ]
    }
   ],
   "source": [
    "# test your classifier with all the training examples\n",
    "pcaknnClassifer = PCAKNNClassifer()\n",
    "pcaknnClassifer.train(X_train, y_train)\n",
    "# display confusion matrix for your PCA KNN classifier with all the training examples\n",
    "\"\"\" ==========\n",
    "YOUR CODE HERE\n",
    "========== \"\"\"\n",
    "# Get the confusion matrix and the overall accuracy of the pcaknnClassiferX\n",
    "M_pca, acc_pca = Confusion(X_test, y_test, pcaknnClassifer)\n",
    "\n",
    "print ('PCA KNN classifier accuracy: %f'%acc_pca)\n",
    "VisualizeConfussion(M_pca)"
   ]
  },
  {
   "cell_type": "code",
   "execution_count": 20,
   "metadata": {},
   "outputs": [
    {
     "name": "stderr",
     "output_type": "stream",
     "text": [
      "18it [00:06,  2.76it/s]                        "
     ]
    },
    {
     "name": "stdout",
     "output_type": "stream",
     "text": [
      "KNN classifier without PCA accuracy: 95.884316\n"
     ]
    },
    {
     "name": "stderr",
     "output_type": "stream",
     "text": [
      "\n"
     ]
    },
    {
     "data": {
      "image/png": "[encoded data removed]",
      "text/plain": [
       "<Figure size 1008x432 with 1 Axes>"
      ]
     },
     "metadata": {
      "needs_background": "light"
     },
     "output_type": "display_data"
    },
    {
     "name": "stdout",
     "output_type": "stream",
     "text": [
      "[[0.99 0.   0.   0.   0.01 0.   0.   0.   0.   0.  ]\n",
      " [0.   0.97 0.01 0.   0.   0.   0.   0.   0.02 0.  ]\n",
      " [0.01 0.   0.94 0.05 0.   0.   0.   0.   0.   0.  ]\n",
      " [0.   0.   0.   0.91 0.   0.01 0.   0.02 0.03 0.02]\n",
      " [0.   0.   0.   0.   0.93 0.   0.   0.   0.   0.07]\n",
      " [0.   0.   0.   0.   0.   0.97 0.01 0.   0.   0.02]\n",
      " [0.   0.   0.   0.   0.   0.   1.   0.   0.   0.  ]\n",
      " [0.   0.   0.   0.   0.   0.   0.   0.99 0.01 0.  ]\n",
      " [0.   0.02 0.   0.02 0.   0.   0.   0.   0.95 0.  ]\n",
      " [0.   0.   0.   0.03 0.   0.02 0.   0.   0.01 0.93]]\n"
     ]
    }
   ],
   "source": [
    "# display confusion matrix for your KNN classifier without PCA all the training examples\n",
    "knnClassifierManualX = kNNClassifierManual()\n",
    "knnClassifierManualX.train(X_train, y_train)\n",
    "\n",
    "# Get the confusion matrix and the overall accuracy of the knnClassifierManualX\n",
    "M_knn, acc_knn = Confusion(X_test, y_test, knnClassifierManualX)\n",
    "\n",
    "print ('KNN classifier without PCA accuracy: %f'%acc_knn)\n",
    "VisualizeConfussion(M_knn)"
   ]
  },
  {
   "cell_type": "markdown",
   "metadata": {
    "id": "iuQfPRnEpM9c"
   },
   "source": [
    "**Question:**<br>\n",
    "Is the testing time for PCA KNN classifier more or less than that for KNN classifier? Comment on why it differs if it does.\n",
    "\n",
    "**Solution:**<br>\n",
    "The testing time for the PCA KNN classifier is shorter than the KNN classifier wihout PCA because PCA helps to reduce the dimensions of the training data set features. As a result, PCA-KNN classifier takes lesser computational time during the training process as compared to the KNN classifier without PCA."
   ]
  },
  {
   "cell_type": "markdown",
   "metadata": {
    "id": "R8ol8VCDpV8Q"
   },
   "source": [
    "<div style=\"page-break-after: always; visibility: hidden\"> \n",
    "\\pagebreak \n",
    "</div>\n",
    "\n",
    "## Problem 2: Deep learning [28 pts]"
   ]
  },
  {
   "cell_type": "markdown",
   "metadata": {
    "id": "aYf3GsdmpfvS"
   },
   "source": [
    "### Problem 2.1 Initial setup [1 pts]\n",
    "\n",
    "Follow the directions on https://pytorch.org/get-started/locally/ to install Pytorch on your computer. \n",
    "\n",
    "Note: You will not need GPU support for this assignment so don't worry if you don't have one. Furthermore, installing with GPU support is often more difficult to configure so it is suggested that you install the CPU only version. TA's will not provide any support related to GPU or CUDA.\n",
    "\n",
    "Run the torch import statements below to verify your instalation.\n",
    "\n"
   ]
  },
  {
   "cell_type": "code",
   "execution_count": 21,
   "metadata": {
    "id": "nQC44M9Rp1VR"
   },
   "outputs": [
    {
     "name": "stdout",
     "output_type": "stream",
     "text": [
      "Requirement already satisfied: torch in /Users/kaitheuser/opt/anaconda3/lib/python3.7/site-packages (1.10.0)\n",
      "Requirement already satisfied: torchvision in /Users/kaitheuser/opt/anaconda3/lib/python3.7/site-packages (0.11.1)\n",
      "Requirement already satisfied: typing-extensions in /Users/kaitheuser/opt/anaconda3/lib/python3.7/site-packages (from torch) (4.0.0)\n",
      "Requirement already satisfied: numpy in /Users/kaitheuser/opt/anaconda3/lib/python3.7/site-packages (from torchvision) (1.18.1)\n",
      "Requirement already satisfied: pillow!=8.3.0,>=5.3.0 in /Users/kaitheuser/opt/anaconda3/lib/python3.7/site-packages (from torchvision) (8.3.2)\n",
      "tensor([[0.4210, 0.2092, 0.6559],\n",
      "        [0.4786, 0.9160, 0.6187],\n",
      "        [0.6562, 0.9365, 0.5588],\n",
      "        [0.5611, 0.7573, 0.6479],\n",
      "        [0.8906, 0.0189, 0.2238]])\n"
     ]
    }
   ],
   "source": [
    "!pip install torch torchvision\n",
    "\n",
    "import torch.nn as nn\n",
    "import torch.nn.functional as F\n",
    "import torch\n",
    "from torch.autograd import Variable\n",
    "\n",
    "x = torch.rand(5, 3)\n",
    "print(x)"
   ]
  },
  {
   "cell_type": "markdown",
   "metadata": {
    "id": "Ai7Lktn5tLBz"
   },
   "source": [
    "In this problem, we will use the full dataset of MNIST database with 28x28 pixel images of digits.\n",
    "\n",
    "Download the MNIST data from http://yann.lecun.com/exdb/mnist/.\n",
    "\n",
    "Download the 4 zipped files, extract them into one folder, and change the variable 'path' in the code below. (Code taken from https://gist.github.com/akesling/5358964 )\n",
    "\n",
    "Plot one random example image corresponding to each label from training data."
   ]
  },
  {
   "cell_type": "code",
   "execution_count": 69,
   "metadata": {
    "id": "j6owsEdLttV9"
   },
   "outputs": [
    {
     "name": "stdout",
     "output_type": "stream",
     "text": [
      "(60000, 28, 28)\n",
      "(10000, 28, 28)\n"
     ]
    }
   ],
   "source": [
    "import os\n",
    "import struct\n",
    "\n",
    "# Change path as required\n",
    "path = \"./mnist/\"\n",
    "\n",
    "def read(dataset = \"training\", datatype='images'):\n",
    "    \"\"\"\n",
    "    Python function for importing the MNIST data set.  It returns an iterator\n",
    "    of 2-tuples with the first element being the label and the second element\n",
    "    being a numpy.uint8 2D array of pixel data for the given image.\n",
    "    \"\"\"\n",
    "\n",
    "    if dataset is \"training\":\n",
    "        fname_img = os.path.join(path, 'train-images-idx3-ubyte')\n",
    "        fname_lbl = os.path.join(path, 'train-labels-idx1-ubyte')\n",
    "    elif dataset is \"testing\":\n",
    "        fname_img = os.path.join(path, 't10k-images-idx3-ubyte')\n",
    "        fname_lbl = os.path.join(path, 't10k-labels-idx1-ubyte')\n",
    "\n",
    "    # Load everything in some numpy arrays\n",
    "    with open(fname_lbl, 'rb') as flbl:\n",
    "        magic, num = struct.unpack(\">II\", flbl.read(8))\n",
    "        lbl = np.fromfile(flbl, dtype=np.int8)\n",
    "\n",
    "    with open(fname_img, 'rb') as fimg:\n",
    "        magic, num, rows, cols = struct.unpack(\">IIII\", fimg.read(16))\n",
    "        img = np.fromfile(fimg, dtype=np.uint8).reshape(len(lbl), rows, cols)\n",
    "    \n",
    "    if(datatype=='images'):\n",
    "        get_data = lambda idx: img[idx]\n",
    "    elif(datatype=='labels'):\n",
    "        get_data = lambda idx: lbl[idx]\n",
    "\n",
    "    # Create an iterator which returns each image in turn\n",
    "    for i in range(len(lbl)):\n",
    "        yield get_data(i)\n",
    "        \n",
    "X_train=np.array(list(read('training','images')))\n",
    "print(X_train.shape)\n",
    "y_train=np.array(list(read('training','labels')))\n",
    "X_test=np.array(list(read('testing','images')))\n",
    "print(X_test.shape)\n",
    "y_test=np.array(list(read('testing','labels')))"
   ]
  },
  {
   "cell_type": "markdown",
   "metadata": {
    "id": "6Wu-weDbqEAY"
   },
   "source": [
    "<div style=\"page-break-after: always; visibility: hidden\"> \n",
    "\\pagebreak \n",
    "</div>\n",
    "\n",
    "### Problem 2.2:  Training with PyTorch [8 pts]\n",
    "Below is some helper code to train your deep networks. \n",
    "Complete the train function for DNN below. You should write down the training operations in this function. That means, for a batch of data you have to initialize the gradients, forward propagate the data, compute error, do back propagation and finally update the parameters. This function will be used in the following questions with different networks.\n",
    "You can look at https://pytorch.org/tutorials/beginner/pytorch_with_examples.html for reference."
   ]
  },
  {
   "cell_type": "code",
   "execution_count": 70,
   "metadata": {
    "id": "Ky0FksEwqDta"
   },
   "outputs": [],
   "source": [
    "# base class for your deep neural networks. It implements the training loop (train_net).\n",
    "\n",
    "\n",
    "import torch.nn.init\n",
    "import torch.optim as optim\n",
    "from torch.autograd import Variable\n",
    "from torch.nn.parameter import Parameter\n",
    "from tqdm import tqdm\n",
    "from scipy.stats import truncnorm\n",
    "\n",
    "class DNN(nn.Module):\n",
    "    def __init__(self):\n",
    "        super(DNN, self).__init__()\n",
    "        pass\n",
    "    \n",
    "    def forward(self, x):\n",
    "        raise NotImplementedError\n",
    "    \n",
    "    def train_net(self, X_train, y_train, epochs=1, batchSize=50):\n",
    "        \"\"\" ==========\n",
    "        YOUR CODE HERE\n",
    "        ========== \"\"\"\n",
    "        #self.lc\n",
    "        # Initialize learning rate.\n",
    "        learning_Rate = 1e-4\n",
    "        \n",
    "        # Create mean Cross Entropy object\n",
    "        loss = nn.CrossEntropyLoss()\n",
    "        #loss = nn.MSELoss()\n",
    "        \n",
    "        # Set the optimization parameters with Stochastic Gradient Descent (SGD)\n",
    "        #optimizer = optim.SGD(self.parameters(), lr = learning_Rate)\n",
    "        #print(self.parameters())\n",
    "        optimizer = optim.Adam(nn.ParameterList(self.parameters()), lr = learning_Rate)\n",
    "        \n",
    "        # Iterate through number of epochs.\n",
    "        for EPOCH in range(0, epochs):\n",
    "            \n",
    "            #for i, (data, label) in enumerate(DataBatch(X_train,y_train,batchSize,shuffle=True)):\n",
    "            for data,label in tqdm(DataBatch(X_train,y_train,batchSize,shuffle=True), total=len(X_train)//batchSize):\n",
    "                \n",
    "                # Initialize the gradients\n",
    "                optimizer.zero_grad()\n",
    "                \n",
    "                # Torch array instead of numpy array\n",
    "                data = Variable(torch.FloatTensor(data))\n",
    "                label = Variable(torch.LongTensor(label))\n",
    "                \n",
    "                # Check data shape\n",
    "                #print(data.shape)\n",
    "                #print(label.shape)\n",
    "                \n",
    "                # Forward propagate data\n",
    "                y_predict = self.forward(data)\n",
    "                \n",
    "                # Compute error\n",
    "                err = loss(y_predict, label)\n",
    "                \n",
    "                # Back propagate data\n",
    "                err.backward()\n",
    "                \n",
    "                # Update Parameters\n",
    "                optimizer.step()\n",
    "                \n",
    "            #print(err)     \n",
    "        \n",
    "    def __call__(self, x):\n",
    "        #print(\"Called\")\n",
    "        inputs = Variable(torch.FloatTensor(x))\n",
    "        prediction = self.forward(inputs)\n",
    "        return np.argmax(prediction.data.cpu().numpy(), 1)\n",
    "\n",
    "# helper function to get weight variable\n",
    "def weight_variable(shape):\n",
    "    initial = torch.Tensor(truncnorm.rvs(-1/0.01, 1/0.01, scale=0.01, size=shape))\n",
    "    return Parameter(initial, requires_grad=True)\n",
    "\n",
    "# helper function to get bias variable\n",
    "def bias_variable(shape):\n",
    "    initial = torch.Tensor(np.ones(shape)*0.1)\n",
    "    return Parameter(initial, requires_grad=True)"
   ]
  },
  {
   "cell_type": "code",
   "execution_count": 24,
   "metadata": {
    "id": "2HYVuzbtosJo"
   },
   "outputs": [],
   "source": [
    "# example linear classifier - input connected to output\n",
    "# you can take this as an example to learn how to extend DNN class\n",
    "class LinearClassifier(DNN):\n",
    "    def __init__(self, in_features=28*28, classes=10):\n",
    "        super(LinearClassifier, self).__init__()\n",
    "        # in_features=28*28\n",
    "        self.weight1 = weight_variable((classes, in_features))\n",
    "        self.bias1 = bias_variable((classes))\n",
    "    \n",
    "    def forward(self, x):\n",
    "        # linear operation\n",
    "        y_pred = torch.addmm(self.bias1, x.view(list(x.size())[0], -1), self.weight1.t())\n",
    "        return y_pred\n",
    "\n",
    "\n",
    "X_train=np.float32(np.expand_dims(X_train,-1))/255\n",
    "X_train=X_train.transpose((0,3,1,2))\n",
    "\n",
    "X_test=np.float32(np.expand_dims(X_test,-1))/255\n",
    "X_test=X_test.transpose((0,3,1,2))"
   ]
  },
  {
   "cell_type": "code",
   "execution_count": 25,
   "metadata": {
    "id": "J-UGSj6FqRKf"
   },
   "outputs": [
    {
     "name": "stderr",
     "output_type": "stream",
     "text": [
      "100%|██████████| 1200/1200 [00:00<00:00, 2335.52it/s]\n",
      "100%|██████████| 1200/1200 [00:00<00:00, 2297.48it/s]\n",
      "100%|██████████| 1200/1200 [00:00<00:00, 2298.12it/s]\n",
      "100%|██████████| 1200/1200 [00:00<00:00, 2278.22it/s]\n",
      "100%|██████████| 1200/1200 [00:00<00:00, 2189.77it/s]\n",
      "100%|██████████| 1200/1200 [00:00<00:00, 2036.05it/s]\n",
      "100%|██████████| 1200/1200 [00:00<00:00, 2281.20it/s]\n",
      "100%|██████████| 1200/1200 [00:00<00:00, 2288.97it/s]\n",
      "100%|██████████| 1200/1200 [00:00<00:00, 2194.81it/s]\n",
      "100%|██████████| 1200/1200 [00:00<00:00, 2300.57it/s]"
     ]
    },
    {
     "name": "stdout",
     "output_type": "stream",
     "text": [
      "Linear classifier accuracy: 91.500000\n"
     ]
    },
    {
     "name": "stderr",
     "output_type": "stream",
     "text": [
      "\n"
     ]
    }
   ],
   "source": [
    "# test the example linear classifier (note you should get around 90% accuracy\n",
    "# for 10 epochs and batchsize 50)\n",
    "linearClassifier = LinearClassifier()\n",
    "linearClassifier.train_net(X_train, y_train, epochs=10)\n",
    "\n",
    "print ('Linear classifier accuracy: %f'%test(X_test, y_test, linearClassifier))"
   ]
  },
  {
   "cell_type": "code",
   "execution_count": 26,
   "metadata": {
    "id": "8RA5688oyNTu"
   },
   "outputs": [
    {
     "name": "stderr",
     "output_type": "stream",
     "text": [
      "100%|██████████| 200/200 [00:00<00:00, 6639.45it/s]\n"
     ]
    },
    {
     "data": {
      "image/png": "[encoded data removed]",
      "text/plain": [
       "<Figure size 1008x432 with 1 Axes>"
      ]
     },
     "metadata": {
      "needs_background": "light"
     },
     "output_type": "display_data"
    },
    {
     "name": "stdout",
     "output_type": "stream",
     "text": [
      "[[0.98 0.   0.   0.   0.   0.   0.01 0.   0.   0.  ]\n",
      " [0.   0.98 0.   0.   0.   0.   0.   0.   0.01 0.  ]\n",
      " [0.01 0.01 0.87 0.02 0.01 0.   0.01 0.01 0.04 0.  ]\n",
      " [0.   0.   0.02 0.9  0.   0.03 0.   0.01 0.02 0.01]\n",
      " [0.   0.   0.   0.   0.93 0.   0.01 0.   0.01 0.04]\n",
      " [0.01 0.   0.   0.04 0.01 0.85 0.02 0.01 0.04 0.01]\n",
      " [0.01 0.   0.01 0.   0.01 0.01 0.95 0.   0.   0.  ]\n",
      " [0.   0.01 0.02 0.01 0.01 0.   0.   0.91 0.   0.04]\n",
      " [0.01 0.01 0.01 0.03 0.01 0.03 0.01 0.02 0.87 0.01]\n",
      " [0.01 0.   0.   0.01 0.04 0.01 0.   0.02 0.01 0.89]]\n"
     ]
    }
   ],
   "source": [
    "# display confusion matrix\n",
    "\"\"\" ==========\n",
    "YOUR CODE HERE\n",
    "========== \"\"\"\n",
    "M_dnn, acc_dnn = Confusion(X_test, y_test, linearClassifier)\n",
    "VisualizeConfussion(M_dnn)"
   ]
  },
  {
   "cell_type": "markdown",
   "metadata": {
    "id": "mNzcCiLr0AU8"
   },
   "source": [
    "<div style=\"page-break-after: always; visibility: hidden\"> \n",
    "\\pagebreak \n",
    "</div>\n",
    "\n",
    "### Problem 2.3: Single Layer Perceptron [3 pts]\n",
    "The simple linear classifier implemented in the cell already performs quite well. Plot the filter weights corresponding to each output class (weights, not biases) as images. (Normalize weights to lie between 0 and 1 and use color maps like 'inferno' or 'plasma' for good results). Comment on what the weights look like and why that may be so.\n"
   ]
  },
  {
   "cell_type": "code",
   "execution_count": 27,
   "metadata": {
    "id": "Q8S3dYZgzzT_"
   },
   "outputs": [
    {
     "data": {
      "image/png": "[encoded data removed]",
      "text/plain": [
       "<Figure size 1080x504 with 10 Axes>"
      ]
     },
     "metadata": {
      "needs_background": "light"
     },
     "output_type": "display_data"
    }
   ],
   "source": [
    "# Plot filter weights corresponding to each class, you may have to reshape them to make sense out of them\n",
    "# linearClassifier.weight1.data will give you the first layer weights\n",
    "\"\"\" ==========\n",
    "YOUR CODE HERE\n",
    "========== \"\"\"\n",
    "# Get the first layer weights\n",
    "weights_array = linearClassifier.weight1.data\n",
    "\n",
    "#print(weights_array.shape)\n",
    "\n",
    "plt.figure(figsize=(15, 7))\n",
    "\n",
    "for idx in range(0, weights_array.shape[0]):\n",
    "    \n",
    "    # Plot it.\n",
    "    # Extract one weight from the array\n",
    "    img = weights_array[idx, :]\n",
    "    \n",
    "    # Normalize it\n",
    "    img = (img - img.min()) / (img.max()- img.min())\n",
    "    \n",
    "    # Create subplots\n",
    "    plt.subplot(2, 5, idx+1)\n",
    "    \n",
    "    # Plot title\n",
    "    plot_Header = \"Number: \"+ str(idx) \n",
    "    \n",
    "    # Include headers\n",
    "    plt.title(plot_Header) \n",
    "    \n",
    "    # Reshape the array to 28 x 28 before plotting\n",
    "    plt.imshow(img.reshape((28, 28)), cmap ='inferno') # Plot the sample image\n",
    "    \n",
    "plt.show()"
   ]
  },
  {
   "cell_type": "markdown",
   "metadata": {
    "id": "zmQUOBNg0PkW"
   },
   "source": [
    "#### Comments on weights\n",
    "The images above illustrates that the weights that are feeding into their corresponding output neuron, which is responsible for classifying a specific digit, consist of the shape of that specific number. This is because each specific output neuron will generate high activaion in the first layer when it encounters an image that looks like a specific number from that weight image above, which is also known as a filter.\n"
   ]
  },
  {
   "cell_type": "markdown",
   "metadata": {
    "id": "gJBWgsBE0S7K"
   },
   "source": [
    "<div style=\"page-break-after: always; visibility: hidden\"> \n",
    "\\pagebreak \n",
    "</div>\n",
    "\n",
    "### Problem 2.4: Multi Layer Perceptron (MLP) [8 pts]\n",
    "Here you will implement an MLP. The MLP should consist of 2 layers (matrix multiplication and bias offset) that map to the following feature dimensions:\n",
    "\n",
    "* 28x28 -> hidden (100)\n",
    "* hidden -> classes\n",
    "\n",
    "* The hidden layer should be followed with a ReLU nonlinearity. The final layer should not have a nonlinearity applied as we desire the raw logits output.\n",
    "* The final output of the computation graph should be stored in self.y as that will be used in the training.\n",
    "\n",
    "Display the confusion matrix and accuracy after training. Note: You should get ~ 97 % accuracy for 10 epochs and batch size 50.\n",
    "\n",
    "Plot the filter weights corresponding to the mapping from the inputs to the first 10 hidden layer outputs (out of 100). Do the weights look similar to the weights plotted in the previous problem? Why or why not?"
   ]
  },
  {
   "cell_type": "code",
   "execution_count": 28,
   "metadata": {
    "id": "Ss2lUgpL0JRh"
   },
   "outputs": [
    {
     "name": "stderr",
     "output_type": "stream",
     "text": [
      "100%|██████████| 12000/12000 [00:12<00:00, 976.85it/s]\n",
      "100%|██████████| 12000/12000 [00:12<00:00, 955.14it/s]\n",
      "100%|██████████| 12000/12000 [00:12<00:00, 952.23it/s]\n",
      "100%|██████████| 12000/12000 [00:12<00:00, 947.67it/s]\n",
      "100%|██████████| 12000/12000 [00:12<00:00, 944.86it/s]\n",
      "100%|██████████| 12000/12000 [00:12<00:00, 942.55it/s]\n",
      "100%|██████████| 12000/12000 [00:12<00:00, 935.88it/s]\n",
      "100%|██████████| 12000/12000 [00:12<00:00, 925.97it/s]\n",
      "100%|██████████| 12000/12000 [00:12<00:00, 923.86it/s]\n",
      "100%|██████████| 12000/12000 [00:13<00:00, 916.13it/s]\n"
     ]
    }
   ],
   "source": [
    "class MLPClassifer(DNN):\n",
    "    def __init__(self, in_features=28*28, classes=10, hidden=100):\n",
    "        super(MLPClassifer, self).__init__()\n",
    "        \"\"\" ==========\n",
    "        YOUR CODE HERE\n",
    "        ========== \"\"\"\n",
    "        # Defining model\n",
    "        self.weight1 = weight_variable((hidden, in_features))\n",
    "        self.bias1 = bias_variable((hidden))\n",
    "        self.weight2 = weight_variable((classes, hidden))\n",
    "        self.bias2 = bias_variable((classes))\n",
    "    \n",
    "    def forward(self, x):\n",
    "        \"\"\" ==========\n",
    "        YOUR CODE HERE\n",
    "        ========== \"\"\"\n",
    "        # Linear operation\n",
    "        hidden_layer = torch.addmm(self.bias1, x.view(list(x.size())[0], -1), self.weight1.t())\n",
    "        m_ReLU = nn.ReLU()\n",
    "        y_pred = torch.addmm(self.bias2, m_ReLU(hidden_layer), self.weight2.t())\n",
    "        \n",
    "        return y_pred\n",
    "\n",
    "mlpClassifer = MLPClassifer()\n",
    "mlpClassifer.train_net(X_train, y_train, epochs=10, batchSize=5)"
   ]
  },
  {
   "cell_type": "code",
   "execution_count": 29,
   "metadata": {
    "id": "R-4xraHl0muj"
   },
   "outputs": [
    {
     "name": "stderr",
     "output_type": "stream",
     "text": [
      "100%|██████████| 200/200 [00:00<00:00, 3582.76it/s]\n"
     ]
    },
    {
     "name": "stdout",
     "output_type": "stream",
     "text": [
      "MLP classifier accuracy: 97.060000\n"
     ]
    },
    {
     "data": {
      "image/png": "[encoded data removed]",
      "text/plain": [
       "<Figure size 1008x432 with 1 Axes>"
      ]
     },
     "metadata": {
      "needs_background": "light"
     },
     "output_type": "display_data"
    },
    {
     "name": "stdout",
     "output_type": "stream",
     "text": [
      "[[0.98 0.   0.   0.   0.   0.   0.   0.   0.   0.  ]\n",
      " [0.   0.98 0.01 0.   0.   0.   0.   0.   0.01 0.  ]\n",
      " [0.   0.   0.98 0.   0.   0.   0.   0.   0.01 0.  ]\n",
      " [0.   0.   0.01 0.97 0.   0.   0.   0.01 0.   0.  ]\n",
      " [0.   0.   0.   0.   0.97 0.   0.01 0.   0.   0.01]\n",
      " [0.   0.   0.   0.02 0.   0.96 0.01 0.   0.01 0.  ]\n",
      " [0.01 0.   0.   0.   0.   0.   0.97 0.   0.   0.  ]\n",
      " [0.   0.01 0.01 0.   0.   0.   0.   0.97 0.   0.01]\n",
      " [0.   0.   0.01 0.01 0.   0.01 0.   0.01 0.96 0.  ]\n",
      " [0.   0.   0.   0.01 0.01 0.   0.   0.   0.   0.95]]\n"
     ]
    }
   ],
   "source": [
    "# Plot confusion matrix\n",
    "M_mlp,acc_mlp = Confusion(X_test, y_test, mlpClassifer)\n",
    "print ('MLP classifier accuracy: %f'%acc_mlp)\n",
    "VisualizeConfussion(M_mlp)"
   ]
  },
  {
   "cell_type": "code",
   "execution_count": 30,
   "metadata": {
    "id": "FLD0yjHH0bVU"
   },
   "outputs": [
    {
     "data": {
      "image/png": "[encoded data removed]",
      "text/plain": [
       "<Figure size 1080x504 with 10 Axes>"
      ]
     },
     "metadata": {
      "needs_background": "light"
     },
     "output_type": "display_data"
    }
   ],
   "source": [
    "# Plot filter weights\n",
    "\"\"\" ==========\n",
    "YOUR CODE HERE\n",
    "========== \"\"\"\n",
    "# Get the first layer weights\n",
    "weights_array = mlpClassifer.weight1.data\n",
    "\n",
    "#print(weights_array.shape)\n",
    "\n",
    "plt.figure(figsize=(15, 7))\n",
    "\n",
    "for idx in range(0, 10):\n",
    "    \n",
    "    # Plot it.\n",
    "    # Extract one weight from the array\n",
    "    img = weights_array[idx, :]\n",
    "    \n",
    "    # Normalize it\n",
    "    img = (img - img.min()) / (img.max()- img.min())\n",
    "    \n",
    "    # Create subplots\n",
    "    plt.subplot(2, 5, idx+1)\n",
    "    \n",
    "    # Plot title\n",
    "    plot_Header = \"Number: \"+ str(idx) \n",
    "    \n",
    "    # Include headers\n",
    "    plt.title(plot_Header) \n",
    "    \n",
    "    # Reshape the array to 28 x 28 before plotting\n",
    "    plt.imshow(img.reshape((28, 28)), cmap ='inferno') # Plot the sample image\n",
    "    \n",
    "plt.show()\n"
   ]
  },
  {
   "cell_type": "markdown",
   "metadata": {
    "id": "7pCLEVJ_1F66"
   },
   "source": [
    "#### Comments on weights:\n",
    "\n",
    "The weights do not look like as clearly as numbers like we observed in the previous case. Some of them look like number 2, some look like a combinantion of multiple numbers and some filters do not look like numbers at all. \n",
    "\n",
    "Linear classifier was a special case where the output neuron is simply dot product with input image plus a bias and hence we had all filters looking like numbers. It may not be so here.\n",
    "\n",
    "In above figure, that look somewhat like 2 (filter 5, filter 7. filter 8) points that the network is trying to fit different hidden neurons to the same hand-written digits with possibly different neuron activations for different strokes. But it's unclear what exactly other filters and if they represent anything tangible.\n",
    "\n",
    "So, eventhough we see few patterns for the filters, we still have 100 hidden neurons and a ReLU non-linearity. It is very difficult to figure out what the neural network actually learns for each filter at the hidden neurons because it has immense flexibility with the 100 units. This aspect essentially reflects in the 'hidden' part of the name 'hidden layer'. In conclusion, as networks grow deep and we keep adding non-linearities, the analysis of what network is doing becomes very difficult."
   ]
  },
  {
   "cell_type": "markdown",
   "metadata": {
    "id": "tBC6s9qQ1KKj"
   },
   "source": [
    "<div style=\"page-break-after: always; visibility: hidden\"> \n",
    "\\pagebreak \n",
    "</div>\n",
    "\n",
    "### Problem 2.5: Convolutional Neural Network (CNN) [8 pts]\n",
    "Here you will implement a CNN with the following architecture:\n",
    "\n",
    "* n=5\n",
    "* ReLU( Conv(kernel_size=5x5, stride=2, output_features=n) )\n",
    "* ReLU( Conv(kernel_size=5x5, stride=2, output_features=n*2) )\n",
    "* ReLU( Linear(hidden units = 64) )\n",
    "* Linear(output_features=classes)\n",
    "\n",
    "So, 2 convolutional layers, followed by 1 fully connected hidden layer and then the output layer\n",
    "\n",
    "Display the confusion matrix and accuracy after training. You should get around ~ 98 % accuracy for 10 epochs and batch size 50.<br><br>\n",
    "**Note: You are not allowed to use torch.nn.Conv2d() and torch.nn.Linear(), Using these will lead to deduction of points. Use the declared conv2d(), weight_variable() and bias_variable() functions.** Although, in practice, when you move forward after this class you will use torch.nn.Conv2d() which makes life easier and hides all the operations underneath."
   ]
  },
  {
   "cell_type": "code",
   "execution_count": 83,
   "metadata": {
    "id": "-OhmF0NM1Clj"
   },
   "outputs": [
    {
     "name": "stderr",
     "output_type": "stream",
     "text": [
      "100%|██████████| 1200/1200 [00:03<00:00, 320.84it/s]\n",
      "100%|██████████| 1200/1200 [00:03<00:00, 317.44it/s]\n",
      "100%|██████████| 1200/1200 [00:03<00:00, 328.58it/s]\n",
      "100%|██████████| 1200/1200 [00:03<00:00, 329.37it/s]\n",
      "100%|██████████| 1200/1200 [00:03<00:00, 315.93it/s]\n",
      "100%|██████████| 1200/1200 [00:03<00:00, 328.67it/s]\n",
      "100%|██████████| 1200/1200 [00:03<00:00, 338.64it/s]\n",
      "100%|██████████| 1200/1200 [00:03<00:00, 330.44it/s]\n",
      "100%|██████████| 1200/1200 [00:03<00:00, 327.71it/s]\n",
      "100%|██████████| 1200/1200 [00:03<00:00, 315.57it/s]\n"
     ]
    }
   ],
   "source": [
    "def conv2d(x, W, stride, bias=None):\n",
    "    # x: input\n",
    "    # W: weights (out, in, kH, kW)\n",
    "    return F.conv2d(x, W, bias, stride=stride, padding=2)\n",
    "\n",
    "# Defining a Convolutional Neural Network\n",
    "class CNNClassifer(DNN):\n",
    "    def __init__(self, classes=10, n=5):\n",
    "        super(CNNClassifer, self).__init__()\n",
    "        \"\"\" ==========\n",
    "        YOUR CODE HERE\n",
    "        ========== \"\"\"\n",
    "        # Input Channel because of grayscale image\n",
    "        in_channel = 1\n",
    "        # Kernel Size\n",
    "        kernel_size_r = 5 # Row\n",
    "        kernel_size_c = 5 # Column\n",
    "        # Hidden Units\n",
    "        hidden_units = 64\n",
    "        \n",
    "        # Defining model\n",
    "        self.weight1 = weight_variable((n, in_channel, kernel_size_r, kernel_size_c))\n",
    "        self.bias1 = bias_variable((n))\n",
    "        \n",
    "        self.weight2 = weight_variable((n*2, n, kernel_size_r, kernel_size_c))\n",
    "        self.bias2 = bias_variable((n*2))\n",
    "        \n",
    "        self.weight3 = weight_variable((hidden_units, 7*7*n*2))\n",
    "        self.bias3 = bias_variable((hidden_units))\n",
    "        \n",
    "        self.weight4 = weight_variable((classes, hidden_units))\n",
    "        self.bias4 = bias_variable((classes))\n",
    "       \n",
    "    def forward(self, x):\n",
    "        \"\"\" ==========\n",
    "        YOUR CODE HERE\n",
    "        ========== \"\"\"\n",
    "        # Number of Strides\n",
    "        num_Strides = 2\n",
    "        \n",
    "        # Convolution Operations\n",
    "        convovle_1 = conv2d(x.view(list(x.size())[0], 1, 28, 28), self.weight1, stride = num_Strides, bias = self.bias1) \n",
    "        conv1_ReLU = nn.ReLU()\n",
    "        convovle_2 = conv2d(conv1_ReLU(convovle_1), self.weight2, stride = num_Strides, bias = self.bias2)\n",
    "        conv2_ReLU = nn.ReLU()\n",
    "        \n",
    "        # Linear Operation\n",
    "        fully_connected = convovle_2.view(list(conv2_ReLU(convovle_2).size())[0], 490)\n",
    "        hidden_layer = torch.addmm(self.bias3, fully_connected, self.weight3.t())\n",
    "        m_ReLU = nn.ReLU()\n",
    "        y = torch.addmm(self.bias4, m_ReLU(hidden_layer), self.weight4.t())\n",
    "       \n",
    "        return y\n",
    "    \n",
    "cnnClassifer = CNNClassifer()\n",
    "cnnClassifer.train_net(X_train, y_train, epochs=10)"
   ]
  },
  {
   "cell_type": "code",
   "execution_count": 84,
   "metadata": {
    "id": "SWkNhBgf1Sf3"
   },
   "outputs": [
    {
     "name": "stderr",
     "output_type": "stream",
     "text": [
      "100%|██████████| 200/200 [00:00<00:00, 1154.63it/s]\n"
     ]
    },
    {
     "name": "stdout",
     "output_type": "stream",
     "text": [
      "Convolution Neural Network classifier accuracy: 97.830000\n"
     ]
    },
    {
     "data": {
      "image/png": "[encoded data removed]",
      "text/plain": [
       "<Figure size 1008x432 with 1 Axes>"
      ]
     },
     "metadata": {
      "needs_background": "light"
     },
     "output_type": "display_data"
    },
    {
     "name": "stdout",
     "output_type": "stream",
     "text": [
      "[[0.98 0.   0.   0.   0.   0.   0.   0.   0.   0.01]\n",
      " [0.   0.99 0.   0.   0.   0.   0.   0.   0.   0.  ]\n",
      " [0.   0.   0.98 0.   0.   0.   0.   0.01 0.   0.  ]\n",
      " [0.   0.   0.   0.99 0.   0.   0.   0.   0.   0.  ]\n",
      " [0.   0.   0.   0.   0.99 0.   0.01 0.   0.   0.  ]\n",
      " [0.   0.   0.   0.01 0.   0.98 0.   0.   0.   0.  ]\n",
      " [0.   0.   0.   0.   0.01 0.   0.98 0.   0.   0.  ]\n",
      " [0.   0.   0.01 0.   0.   0.   0.   0.98 0.   0.  ]\n",
      " [0.   0.   0.01 0.02 0.   0.   0.   0.   0.96 0.  ]\n",
      " [0.   0.   0.   0.01 0.02 0.   0.   0.   0.   0.95]]\n"
     ]
    }
   ],
   "source": [
    "# Plot confusion matrix\n",
    "\"\"\" ==========\n",
    "YOUR CODE HERE\n",
    "========== \"\"\"\n",
    "M_cnn,acc_cnn = Confusion(X_test, y_test, cnnClassifer)\n",
    "print ('Convolution Neural Network classifier accuracy: %f'%acc_cnn)\n",
    "VisualizeConfussion(M_cnn)"
   ]
  },
  {
   "cell_type": "markdown",
   "metadata": {
    "id": "nHx9gSiK1xVp"
   },
   "source": [
    "* Note that the MLP/ConvNet approaches lead to an accuracy a little higher than the K-NN approach. \n",
    "* In general, Neural net approaches lead to significant increase in accuracy, but in this case since the problem is not too hard, the increase in accuracy is not very high.\n",
    "* However, this is still quite significant considering the fact that the ConvNets we've used are relatively simple while the accuracy achieved using K-NN is with a search over 60,000 training images for every test image.\n",
    "* You can look at the performance of various machine learning methods on this problem at http://yann.lecun.com/exdb/mnist/\n",
    "* You can learn more about neural nets/ pytorch at<br> https://pytorch.org/tutorials/beginner/deep_learning_60min_blitz.html\n",
    "* You can play with a demo of neural network created by Daniel Smilkov and Shan Carter at https://playground.tensorflow.org/"
   ]
  }
 ],
 "metadata": {
  "anaconda-cloud": {},
  "colab": {
   "name": "HW4.ipynb",
   "provenance": []
  },
  "hide_input": false,
  "kernelspec": {
   "display_name": "Python 3 (ipykernel)",
   "language": "python",
   "name": "python3"
  },
  "language_info": {
   "codemirror_mode": {
    "name": "ipython",
    "version": 3
   },
   "file_extension": ".py",
   "mimetype": "text/x-python",
   "name": "python",
   "nbconvert_exporter": "python",
   "pygments_lexer": "ipython3",
   "version": "3.9.7"
  },
  "toc": {
   "colors": {
    "hover_highlight": "#DAA520",
    "running_highlight": "#FF0000",
    "selected_highlight": "#FFD700"
   },
   "moveMenuLeft": true,
   "nav_menu": {
    "height": "123px",
    "width": "252px"
   },
   "navigate_menu": true,
   "number_sections": true,
   "sideBar": true,
   "threshold": 4,
   "toc_cell": false,
   "toc_section_display": "block",
   "toc_window_display": false,
   "widenNotebook": false
  }
 },
 "nbformat": 4,
 "nbformat_minor": 1
}
